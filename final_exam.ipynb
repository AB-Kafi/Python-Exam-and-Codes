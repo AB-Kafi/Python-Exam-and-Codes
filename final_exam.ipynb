{
  "nbformat": 4,
  "nbformat_minor": 0,
  "metadata": {
    "colab": {
      "name": "final exam.ipynb",
      "provenance": [],
      "authorship_tag": "ABX9TyPPE3IryWnU/q2so3c226+Q"
    },
    "kernelspec": {
      "name": "python3",
      "display_name": "Python 3"
    }
  },
  "cells": [
    {
      "cell_type": "markdown",
      "metadata": {
        "id": "hVndiH1EZCvc"
      },
      "source": [
        "**Answer to the Question 1**"
      ]
    },
    {
      "cell_type": "code",
      "metadata": {
        "id": "7WPgUaN8ZS5I",
        "colab": {
          "base_uri": "https://localhost:8080/"
        },
        "outputId": "5b080f26-f6f6-4136-b170-43fe577f90ca"
      },
      "source": [
        "class SalesRecord:\r\n",
        "    '''Keeps the record of sales \r\n",
        "        Attribute:\r\n",
        "            invoicenumber(str): invoice number of the product\r\n",
        "            dateofsale(string): date of the sale\r\n",
        "            customer(onject)  : Customer who brought the service\r\n",
        "            employee(object)  : Employee who sold the service\r\n",
        "    '''          \r\n",
        "    def __init__(self,invoice,date,customer,employee):\r\n",
        "        self.invoicenumber = invoice\r\n",
        "        self.dateofsale = date\r\n",
        "        self.customer = customer\r\n",
        "        self.employee = employee\r\n",
        "    \r\n",
        "    def __str__(self):\r\n",
        "        return f'invoice = {self.invoicenumber} \\ndata = {self.dateofsale} \\ncustomer = {self.customer} \\nemployee = {self.employee}\\n'\r\n",
        "    \r\n",
        "        \r\n",
        "        \r\n",
        "\r\n",
        "class Employee:\r\n",
        "    ''' Keeps the data of the employee\r\n",
        "        \r\n",
        "        Attribute:\r\n",
        "        nid(str) : NID number of a Employee\r\n",
        "        firstname(str): first name of the employee\r\n",
        "        lastname(str): last name of the employee\r\n",
        "        homephonenumber(str): Home phone number of a employee\r\n",
        "    '''\r\n",
        "    def __init__(self,nid,fname,lname,hphn):\r\n",
        "        self.nid = nid\r\n",
        "        self.firstname = fname\r\n",
        "        self.lastname = lname\r\n",
        "        self.homephonenumber = hphn\r\n",
        "    \r\n",
        "    def __str__(self):\r\n",
        "        return f'Employee:\\nnid = {self.nid} \\n first name = {self.firstname} \\nlast name = {self.lastname} \\nHome Phone = {self.homephonenumber}\\n'\r\n",
        "\r\n",
        "class Customer:\r\n",
        "    '''Keeps the data of the customer\r\n",
        "\r\n",
        "        Attribute:\r\n",
        "        firstname(str) : first name of customer\r\n",
        "        middlename(str): middle name of the customer\r\n",
        "        lastname(str): last name of the customer\r\n",
        "        phonenumber(str): phonenumber of the customer\r\n",
        "    '''\r\n",
        "    def __init__(self,fname,mname, lname, phn, homeaddress):\r\n",
        "        self.firstname = fname\r\n",
        "        self.middlename = mname if mname != None else None\r\n",
        "        self.lname = lname\r\n",
        "        self.phn = phn\r\n",
        "        self.homeaddress = homeaddress\r\n",
        "  \r\n",
        "    def __str__(self):\r\n",
        "        return f'Customer:\\n first name = {self.firstname} \\nlast name = {self.lname} \\nHome Phone = {self.phn} \\nAddress = {self.homeaddress}\\n'\r\n",
        "\r\n",
        "class Homeaddress:\r\n",
        "    ''' Keep the homeaddress of a customer\r\n",
        "        Attribute:\r\n",
        "        streetnumber(str): street number of the customer\r\n",
        "        postcide(str): postcode of the customer\r\n",
        "    '''\r\n",
        "    def __init__(self, street, post):\r\n",
        "        self.streetnumber = street\r\n",
        "        self.postcode = post\r\n",
        "    \r\n",
        "    def __str__(self):\r\n",
        "        return f'Street Number ={self.streetnumber} \\npost = {self.postcode}\\n'\r\n",
        "\r\n",
        "class Inventory:\r\n",
        "    ''' keeps Inventory data\r\n",
        "\r\n",
        "        Attribute:\r\n",
        "        product(object list): product object\r\n",
        "    '''\r\n",
        "    def __init__(self,product):\r\n",
        "        self.product = list()\r\n",
        "        self.product.append(product)\r\n",
        "\r\n",
        "    def __str__(self):\r\n",
        "        String=''\r\n",
        "        for i in self.product:\r\n",
        "            String.join(i.__str__())\r\n",
        "        return String\r\n",
        "\r\n",
        "class Product:\r\n",
        "    ''' keep the product info\r\n",
        "\r\n",
        "        Attribut:\r\n",
        "        number(str):product number\r\n",
        "        name(str) : product name\r\n",
        "        price(float) : product price\r\n",
        "        quantity(int) : available products\r\n",
        "        reparecost(float) : reparing cost of the product\r\n",
        "        exchangecost(float) : exchange cost of the product\r\n",
        "    '''\r\n",
        "    def __init__(self,num, name, price, quantity, repcost, excost):\r\n",
        "        self.number = num\r\n",
        "        self.name = name\r\n",
        "        self.price = float(price)\r\n",
        "        self.quantity = int(quantity)\r\n",
        "        self.reparecost = float(repcost)\r\n",
        "        self.exchangecost = float(excost)\r\n",
        "    def __str__(self):\r\n",
        "        return f'Product : \\nNumber = {self.number} \\nName = {self.name} \\nPrice = {self.price} \\nQuantity = {self.quantity} \\n'\r\n",
        "    def repare(self):\r\n",
        "        print(f'{self.name} will be repared and cost {self.reparecost} ')\r\n",
        "    \r\n",
        "    def exchange(self,other):\r\n",
        "        ''' Args:\r\n",
        "        other (object) : is a object of type product\r\n",
        "        '''\r\n",
        "        print(f'{self.name} will be exchange for {other.name}')\r\n",
        "\r\n",
        "\r\n",
        "class Application:\r\n",
        "    '''Implement the hole system'''\r\n",
        "    \r\n",
        "    def __init__(self):\r\n",
        "        self.salesrecord = None\r\n",
        "        self.inventory   = None\r\n",
        "    \r\n",
        "    def Run(self):\r\n",
        "        '''All of this can me made dynamic and fully functional system . but for examination and time constrain i am using static objects.\r\n",
        "        \r\n",
        "            Dynamic and fucntional: \r\n",
        "                    using, while True : \r\n",
        "                            accessors and mutators\r\n",
        "\r\n",
        "        '''\r\n",
        "        \r\n",
        "        print(\"Running the Application :\")\r\n",
        "\r\n",
        "        home = Homeaddress('124kalabagan',\"1205\") \r\n",
        "        c1 = Customer('Sajal','das','dada','01777777',home)\r\n",
        "        e1= Employee('Bd09876554','shakib','khan','017890123')\r\n",
        "        self.salesrecord = SalesRecord('invoc1312','14-11-2020',c1,e1)\r\n",
        "        \r\n",
        "        product1= Product(\"11213\",\"car\",134214.123,15,150,1000)\r\n",
        "        print(product1)\r\n",
        "        \r\n",
        "        self.inventory = Inventory(product1)\r\n",
        "\r\n",
        "        print(self.inventory)\r\n",
        "        print(self.salesrecord)\r\n",
        " \r\n",
        "\r\n",
        "App= Application()\r\n",
        "App.Run()\r\n",
        "\r\n"
      ],
      "execution_count": null,
      "outputs": [
        {
          "output_type": "stream",
          "text": [
            "Running the Application :\n",
            "Product : \n",
            "Number = 11213 \n",
            "Name = car \n",
            "Price = 134214.123 \n",
            "Quantity = 15 \n",
            "\n",
            "\n",
            "invoice = invoc1312 \n",
            "data = 14-11-2020 \n",
            "customer = Customer:\n",
            " first name = Sajal \n",
            "last name = dada \n",
            "Home Phone = 01777777 \n",
            "Address = Street Number =124kalabagan \n",
            "post = 1205\n",
            "\n",
            " \n",
            "employee = Employee:\n",
            "nid = Bd09876554 \n",
            " first name = shakib \n",
            "last name = khan \n",
            "Home Phone = 017890123\n",
            "\n",
            "\n"
          ],
          "name": "stdout"
        }
      ]
    },
    {
      "cell_type": "markdown",
      "metadata": {
        "id": "YhhcFa4kzPh3"
      },
      "source": [
        "**Answer to the Question 2**"
      ]
    },
    {
      "cell_type": "code",
      "metadata": {
        "id": "zDt0GHq9y9Wn"
      },
      "source": [
        "\r\n",
        "class Train:\r\n",
        "    def __init__(self , name ,coach):\r\n",
        "        self.name = name\r\n",
        "        self.coach = coach\r\n",
        "        \r\n",
        "class Coach:\r\n",
        "    def __init__(self,name):\r\n",
        "        self.name = name\r\n",
        "        self.seatnumber=[True for i in range(25)]\r\n",
        "\r\n",
        "\r\n",
        "\r\n",
        "class Ticket:\r\n",
        "    def __init__(self,Trains):\r\n",
        "        self.Train = Trains\r\n",
        "\r\n",
        "    def booking(self,number,trainChoice):\r\n",
        "        booked = list()\r\n",
        "        \r\n",
        "        for i in self.Train[trainChoice].coach:\r\n",
        "            for x,j in enumerate(i.seatnumber):\r\n",
        "              if number == 0:\r\n",
        "                break\r\n",
        "              if  j == True:\r\n",
        "                self.Train[trainChoice].coach.seatnumber[x] = False\r\n",
        "                booked.append(x)\r\n",
        "                number-=1  \r\n",
        "        return booked\r\n",
        "\r\n",
        "class creation:\r\n",
        "\r\n",
        "    def create():\r\n",
        "        a= Coach('A')\r\n",
        "        b= Coach('B')\r\n",
        "        c = Coach('C')\r\n",
        "        d = Coach('D')\r\n",
        "        \r\n",
        "        ls=[a,b,c,d]\r\n",
        "        tr1=Train('Banalata',ls)\r\n",
        "        tr2= Train('Padma',ls)\r\n",
        "        t1 = [tr1,tr2]\r\n",
        "        ticket = Ticket(t1)\r\n",
        "        return ticket\r\n",
        "\r\n",
        "\r\n",
        "class System:\r\n",
        "    def __init__(self,time):\r\n",
        "        \r\n",
        "        self.creation=creation()\r\n",
        "        self.time=None\r\n",
        "        if 'pm' in time:\r\n",
        "           self.time= int(time[:1])+12\r\n",
        "        else:\r\n",
        "            self.time=int(time[:1])\r\n",
        "\r\n",
        "        \r\n",
        "    def Run(self):\r\n",
        "        while True:\r\n",
        "            print(\"system Is running\")\r\n",
        "            if  8 > self.time < 23:\r\n",
        "                Tic=creation.create()\r\n",
        "                 \r\n",
        "                phone_number=input(\"Enter Phone Number:\")\r\n",
        "                trainChoice= int(input(\"Enter 0 for banalata 1 for padma \"))\r\n",
        "                number_ofbooking=int(input(\"Enter Number of booking\"))\r\n",
        "                seats = Tic.booking(number_ofbooking,trainChoice)\r\n",
        "                if len(seats):\r\n",
        "                    print(\"Congratulation! your tickt's re booked\")\r\n",
        "                    print('Train = ' ,Tic.Train.name)\r\n",
        "                    print(\"coach = \",Tic.Train.coach.name)\r\n",
        "                    print(\"seat Range = \", seat)\r\n",
        "                    print('Phone Number = ',phone_number)\r\n",
        "                else:\r\n",
        "                    print(\"No seat Available\")\r\n",
        "            else:\r\n",
        "                print(\"can't buy , time's up\")  \r\n",
        "                break\r\n",
        "\r\n",
        "\r\n",
        "\r\n",
        "\r\n",
        "system = System('01am')\r\n",
        "system.Run()\r\n",
        "\r\n",
        "\r\n",
        "\r\n",
        "\r\n",
        "\r\n",
        "\r\n",
        "\r\n"
      ],
      "execution_count": null,
      "outputs": []
    },
    {
      "cell_type": "markdown",
      "metadata": {
        "id": "P35xYXiizbMn"
      },
      "source": [
        "**Answer to the Question 3**\r\n",
        "\r\n",
        "ans: I do not agree with the above statement. A language is considered fast if it executes fast . so the Speed depends on Execution not interpretation or compilation . But Interpretaion is faster than compilation . So Python might interpret the code faster than Compiling the code. But Execution in python is slow. So Interpretaton of code doesn't make python faster than other language. Because speed depends on execution."
      ]
    },
    {
      "cell_type": "markdown",
      "metadata": {
        "id": "n8tDpzAt1ZZD"
      },
      "source": [
        "**Answer to the Question 4**\r\n",
        "\r\n",
        "ans: No , i do not agree with the statement. Because while creating a object there should not be any reference to the object. because after creation of a object it will have a reference . But when we see the structure of __init__(self) it takes a reference 'self' as it's first argument. which is a reference to the object that has been created . so the object already created then the reference is assigned and after the assignment we can use and pass the reference self as an argument. So the object is created first then the __init__() is called . "
      ]
    },
    {
      "cell_type": "code",
      "metadata": {
        "colab": {
          "base_uri": "https://localhost:8080/",
          "height": 201
        },
        "id": "RTVqRCkC21mj",
        "outputId": "cc96d5da-765d-43c7-cd89-4d336c26c789"
      },
      "source": [
        "#example of Quesion 4\r\n",
        "\r\n",
        "\r\n",
        "class Check:\r\n",
        "    def __init__():\r\n",
        "        print(\"init is called\")\r\n",
        "        \r\n",
        "ch= Check()  \r\n",
        "\r\n",
        "#without the self keyword it will create a type error . that means \r\n",
        "#it always takes a reference. so it can't be called while creation\r\n",
        "#of a object"
      ],
      "execution_count": null,
      "outputs": [
        {
          "output_type": "error",
          "ename": "TypeError",
          "evalue": "ignored",
          "traceback": [
            "\u001b[0;31m---------------------------------------------------------------------------\u001b[0m",
            "\u001b[0;31mTypeError\u001b[0m                                 Traceback (most recent call last)",
            "\u001b[0;32m<ipython-input-30-a056c2445014>\u001b[0m in \u001b[0;36m<module>\u001b[0;34m()\u001b[0m\n\u001b[1;32m      6\u001b[0m         \u001b[0mprint\u001b[0m\u001b[0;34m(\u001b[0m\u001b[0;34m\"init is called\"\u001b[0m\u001b[0;34m)\u001b[0m\u001b[0;34m\u001b[0m\u001b[0;34m\u001b[0m\u001b[0m\n\u001b[1;32m      7\u001b[0m \u001b[0;34m\u001b[0m\u001b[0m\n\u001b[0;32m----> 8\u001b[0;31m \u001b[0mch\u001b[0m\u001b[0;34m=\u001b[0m \u001b[0mCheck\u001b[0m\u001b[0;34m(\u001b[0m\u001b[0;34m)\u001b[0m\u001b[0;34m\u001b[0m\u001b[0;34m\u001b[0m\u001b[0m\n\u001b[0m",
            "\u001b[0;31mTypeError\u001b[0m: __init__() takes 0 positional arguments but 1 was given"
          ]
        }
      ]
    },
    {
      "cell_type": "markdown",
      "metadata": {
        "id": "7IX-0r3I2_9P"
      },
      "source": [
        "**Answer to the Quesion 5**\r\n",
        "\r\n",
        "ans:Yes we can create a class with out self keyword . because self is a reference to the object which is already created . "
      ]
    },
    {
      "cell_type": "code",
      "metadata": {
        "colab": {
          "base_uri": "https://localhost:8080/"
        },
        "id": "KNCn1NJr3qJM",
        "outputId": "d1165502-f58d-4158-cd7c-69b69cd003b3"
      },
      "source": [
        "#example of quesion 5\r\n",
        "class Foo:\r\n",
        "    pass\r\n",
        "\r\n",
        "obj=Foo()\r\n",
        "print(id(obj))\r\n",
        "\r\n",
        "# here id is the place where the object is created in the memeory\r\n",
        "# and it returns a value . so we can create a object wihout self"
      ],
      "execution_count": null,
      "outputs": [
        {
          "output_type": "stream",
          "text": [
            "140466792958216\n"
          ],
          "name": "stdout"
        }
      ]
    },
    {
      "cell_type": "markdown",
      "metadata": {
        "id": "a20IkddZ54ts"
      },
      "source": [
        "**Asnwer to the question 6**\r\n",
        "\r\n",
        "ans:Yes i agree."
      ]
    },
    {
      "cell_type": "code",
      "metadata": {
        "id": "uZYfWIwi6N9Q"
      },
      "source": [
        "#1.numpy array is faster then list\r\n",
        "\r\n",
        "#let's check using timeit\r\n",
        "\r\n",
        "import random\r\n",
        "import numpy as np"
      ],
      "execution_count": null,
      "outputs": []
    },
    {
      "cell_type": "code",
      "metadata": {
        "colab": {
          "base_uri": "https://localhost:8080/"
        },
        "id": "XyC8lK1q6plM",
        "outputId": "0def5a1a-bdd8-42e1-8c78-17d3a5afc88f"
      },
      "source": [
        "#for numpy\r\n",
        "%timeit rolls_arr= np.random.randint(1,7,6000000)"
      ],
      "execution_count": null,
      "outputs": [
        {
          "output_type": "stream",
          "text": [
            "10 loops, best of 3: 58.2 ms per loop\n"
          ],
          "name": "stdout"
        }
      ]
    },
    {
      "cell_type": "code",
      "metadata": {
        "colab": {
          "base_uri": "https://localhost:8080/"
        },
        "id": "sYYZrjyD67qB",
        "outputId": "d4d39fb0-1f55-4be7-d78e-c65e29024efc"
      },
      "source": [
        "#for list\r\n",
        "%timeit rolls_list= [random.randrange(1,7) for i in range(0,6000000)]"
      ],
      "execution_count": null,
      "outputs": [
        {
          "output_type": "stream",
          "text": [
            "1 loop, best of 3: 5.7 s per loop\n"
          ],
          "name": "stdout"
        }
      ]
    },
    {
      "cell_type": "markdown",
      "metadata": {
        "id": "0xDkuuZe7ZY7"
      },
      "source": [
        "so we can see in above code that numpy is faster"
      ]
    },
    {
      "cell_type": "code",
      "metadata": {
        "colab": {
          "base_uri": "https://localhost:8080/"
        },
        "id": "I5u-lYjY7qJ4",
        "outputId": "62e8f777-cb72-4a38-9b6a-133bcbf23913"
      },
      "source": [
        "#2.reshaping : we can reshape ndarray . but cant reshape list\r\n",
        "\r\n",
        "List = [[1,2,3,4],[6,7,8,9]]\r\n",
        "print(List)\r\n",
        "array=np.array(List)\r\n",
        "print(\"printing array :\")\r\n",
        "print(array)\r\n",
        "array.reshape(4,2)"
      ],
      "execution_count": null,
      "outputs": [
        {
          "output_type": "stream",
          "text": [
            "[[1, 2, 3, 4], [6, 7, 8, 9]]\n",
            "printing array :\n",
            "[[1 2 3 4]\n",
            " [6 7 8 9]]\n"
          ],
          "name": "stdout"
        },
        {
          "output_type": "execute_result",
          "data": {
            "text/plain": [
              "array([[1, 2],\n",
              "       [3, 4],\n",
              "       [6, 7],\n",
              "       [8, 9]])"
            ]
          },
          "metadata": {
            "tags": []
          },
          "execution_count": 72
        }
      ]
    }
  ]
}