{
  "nbformat": 4,
  "nbformat_minor": 0,
  "metadata": {
    "colab": {
      "name": "Property ex.ipynb",
      "provenance": [],
      "authorship_tag": "ABX9TyPhE4l5GeBsnMX+F/PkQPwq"
    },
    "kernelspec": {
      "name": "python3",
      "display_name": "Python 3"
    }
  },
  "cells": [
    {
      "cell_type": "code",
      "metadata": {
        "id": "DGx0vzpFR4pn",
        "cellView": "form"
      },
      "source": [
        "#@title\r\n",
        "\r\n",
        "class Parent:\r\n",
        "    def func1(self): #self is the reference to the object\r\n",
        "        print(\"This fuction is in the parent class.\")\r\n",
        "\r\n",
        "class Child1 (Parent):\r\n",
        "    def func2(self):\r\n",
        "        print(\"This function is in child 1.\")\r\n",
        "\r\n",
        "class Child2 (Parent):\r\n",
        "    def func3(self):\r\n",
        "        print(\"this funtion is in child 2.\")\r\n",
        "\r\n",
        "\r\n",
        "object1=Child1()\r\n",
        "object2=Child2()\r\n",
        "\r\n",
        "object1.func1() #inherited method call\r\n",
        "object1.func2() \r\n",
        "object2.func1() ##inherited method call\r\n",
        "object2.func3()\r\n"
      ],
      "execution_count": null,
      "outputs": []
    },
    {
      "cell_type": "code",
      "metadata": {
        "id": "9z1fTeOjTvav",
        "cellView": "form"
      },
      "source": [
        "#@title\r\n",
        "\r\n",
        "class Grandmother:\r\n",
        "    def __init__(self, name):\r\n",
        "        self.grandmothername= name\r\n",
        "\r\n",
        "class Mother(Grandmother):\r\n",
        "    def __init__(self, grandmothername,mothername):\r\n",
        "        self.mothername=mothername\r\n",
        "        Grandmother.__init__(self,grandmothername)\r\n",
        "\r\n",
        "class Daughter(Mother):\r\n",
        "    def __init__(self,daughtername,mothername,grandmothername):\r\n",
        "        self.daughtername=daughtername\r\n",
        "        Mother.__init__(self,grandmothername,mothername)\r\n",
        "    \r\n",
        "    def print_name(self):\r\n",
        "        print(\"Grandmother name :\",self.grandmothername)\r\n",
        "        print(\"Mother name :\", self.mothername)\r\n",
        "        print(\"Daughter name : \", self.daughtername)\r\n",
        "\r\n",
        "\r\n",
        "s1 = Daughter('Marry', 'Jane', 'Parker')\r\n",
        "print(s1.grandmothername)\r\n",
        "\r\n",
        "s1.print_name()"
      ],
      "execution_count": null,
      "outputs": []
    },
    {
      "cell_type": "code",
      "metadata": {
        "id": "Wj68KXQxXV6P",
        "cellView": "form"
      },
      "source": [
        "#@title\r\n",
        "class Alphabet:\r\n",
        "    def __init__(self,value):\r\n",
        "        self._value = value\r\n",
        "    \r\n",
        "    @property\r\n",
        "    def value(self):\r\n",
        "        print(\"Getting the value \")\r\n",
        "        return self._value\r\n",
        "    @value.setter\r\n",
        "    def value(self,value):\r\n",
        "        print('Setting value to '+ value)\r\n",
        "        self._value=value\r\n",
        "\r\n",
        "x = Alphabet(\"Peter\")\r\n",
        "print(x.value)\r\n",
        "x.value= \"Diesel\"\r\n",
        "print(x.value)"
      ],
      "execution_count": null,
      "outputs": []
    },
    {
      "cell_type": "code",
      "metadata": {
        "id": "6iZI2tQXYU9y"
      },
      "source": [
        ""
      ],
      "execution_count": null,
      "outputs": []
    },
    {
      "cell_type": "code",
      "metadata": {
        "colab": {
          "base_uri": "https://localhost:8080/"
        },
        "id": "4xZB0oMH5u3P",
        "outputId": "831944eb-3f1f-4be9-c35d-07506be7a062"
      },
      "source": [
        "def cal(x):\n",
        "\n",
        "    if x == 1:\n",
        "        return 0\n",
        "\n",
        "    val = x**2\n",
        "\n",
        "    return val+cal(x-1) # recursive call\n",
        "\n",
        "def loo(x):\n",
        "\n",
        "    sum = 0\n",
        "    for i in range(x,5):\n",
        "        sum+=i**2\n",
        "    \n",
        "    return sum\n",
        "\n",
        "x = cal(4)\n",
        "y = loo(2)\n",
        "print(x)\n",
        "print(y)\n",
        "\n"
      ],
      "execution_count": null,
      "outputs": [
        {
          "output_type": "stream",
          "text": [
            "29\n",
            "29\n"
          ],
          "name": "stdout"
        }
      ]
    },
    {
      "cell_type": "code",
      "metadata": {
        "colab": {
          "base_uri": "https://localhost:8080/"
        },
        "id": "xNm5BGzXqeUi",
        "outputId": "44016ce9-8037-4a2c-eb8d-0000d7678c2b"
      },
      "source": [
        "def printf(x):\n",
        "\n",
        "    if x == 5 :\n",
        "        return None\n",
        "\n",
        "    printf(x+1) #recursive call\n",
        "\n",
        "    print(x ,  end = \" \")\n",
        "\n",
        "   \n",
        "\n",
        "\n",
        "printf(1)\n"
      ],
      "execution_count": null,
      "outputs": [
        {
          "output_type": "stream",
          "text": [
            "4 3 2 1 "
          ],
          "name": "stdout"
        }
      ]
    }
  ]
}